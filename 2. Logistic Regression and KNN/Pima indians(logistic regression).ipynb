{
 "cells": [
  {
   "cell_type": "markdown",
   "id": "40ea1227",
   "metadata": {},
   "source": [
    "## Exercise 1"
   ]
  },
  {
   "cell_type": "code",
   "execution_count": 4,
   "id": "6789ae9f",
   "metadata": {},
   "outputs": [],
   "source": [
    "#importing necessary libraries\n",
    "import pandas as pd\n",
    "import numpy as np\n",
    "import seaborn as sb\n",
    "import matplotlib.pyplot as plt"
   ]
  },
  {
   "cell_type": "markdown",
   "id": "bf8a738a",
   "metadata": {},
   "source": [
    "#### Q1"
   ]
  },
  {
   "cell_type": "markdown",
   "id": "a57264e0",
   "metadata": {},
   "source": [
    "This dataset describes the medical records for Pima Indians\n",
    "and whether or not each patient will have an onset of diabetes within \f",
    "ve years.\n",
    "\n",
    "Fields description follow:\n",
    "\n",
    "preg = Number of times pregnant\n",
    "\n",
    "plas = Plasma glucose concentration a 2 hours in an oral glucose tolerance test\n",
    "\n",
    "pres = Diastolic blood pressure (mm Hg)\n",
    "\n",
    "skin = Triceps skin fold thickness (mm)\n",
    "\n",
    "test = 2-Hour serum insulin (mu U/ml)\n",
    "\n",
    "mass = Body mass index (weight in kg/(height in m)^2)\n",
    "\n",
    "pedi = Diabetes pedigree function\n",
    "\n",
    "age = Age (years)\n",
    "\n",
    "class = Class variable (1:tested positive for diabetes, 0: tested negative for diabetes)"
   ]
  },
  {
   "cell_type": "markdown",
   "id": "f7c502cd",
   "metadata": {},
   "source": [
    "#### Q2"
   ]
  },
  {
   "cell_type": "code",
   "execution_count": 5,
   "id": "83fb88a8",
   "metadata": {},
   "outputs": [
    {
     "data": {
      "text/html": [
       "<div>\n",
       "<style scoped>\n",
       "    .dataframe tbody tr th:only-of-type {\n",
       "        vertical-align: middle;\n",
       "    }\n",
       "\n",
       "    .dataframe tbody tr th {\n",
       "        vertical-align: top;\n",
       "    }\n",
       "\n",
       "    .dataframe thead th {\n",
       "        text-align: right;\n",
       "    }\n",
       "</style>\n",
       "<table border=\"1\" class=\"dataframe\">\n",
       "  <thead>\n",
       "    <tr style=\"text-align: right;\">\n",
       "      <th></th>\n",
       "      <th>preg</th>\n",
       "      <th>plas</th>\n",
       "      <th>pres</th>\n",
       "      <th>skin</th>\n",
       "      <th>insu</th>\n",
       "      <th>mass</th>\n",
       "      <th>pedi</th>\n",
       "      <th>age</th>\n",
       "      <th>class</th>\n",
       "    </tr>\n",
       "  </thead>\n",
       "  <tbody>\n",
       "    <tr>\n",
       "      <th>0</th>\n",
       "      <td>6</td>\n",
       "      <td>148</td>\n",
       "      <td>72</td>\n",
       "      <td>35</td>\n",
       "      <td>0</td>\n",
       "      <td>33.6</td>\n",
       "      <td>0.627</td>\n",
       "      <td>50</td>\n",
       "      <td>1</td>\n",
       "    </tr>\n",
       "    <tr>\n",
       "      <th>1</th>\n",
       "      <td>1</td>\n",
       "      <td>85</td>\n",
       "      <td>66</td>\n",
       "      <td>29</td>\n",
       "      <td>0</td>\n",
       "      <td>26.6</td>\n",
       "      <td>0.351</td>\n",
       "      <td>31</td>\n",
       "      <td>0</td>\n",
       "    </tr>\n",
       "    <tr>\n",
       "      <th>2</th>\n",
       "      <td>8</td>\n",
       "      <td>183</td>\n",
       "      <td>64</td>\n",
       "      <td>0</td>\n",
       "      <td>0</td>\n",
       "      <td>23.3</td>\n",
       "      <td>0.672</td>\n",
       "      <td>32</td>\n",
       "      <td>1</td>\n",
       "    </tr>\n",
       "    <tr>\n",
       "      <th>3</th>\n",
       "      <td>1</td>\n",
       "      <td>89</td>\n",
       "      <td>66</td>\n",
       "      <td>23</td>\n",
       "      <td>94</td>\n",
       "      <td>28.1</td>\n",
       "      <td>0.167</td>\n",
       "      <td>21</td>\n",
       "      <td>0</td>\n",
       "    </tr>\n",
       "    <tr>\n",
       "      <th>4</th>\n",
       "      <td>0</td>\n",
       "      <td>137</td>\n",
       "      <td>40</td>\n",
       "      <td>35</td>\n",
       "      <td>168</td>\n",
       "      <td>43.1</td>\n",
       "      <td>2.288</td>\n",
       "      <td>33</td>\n",
       "      <td>1</td>\n",
       "    </tr>\n",
       "  </tbody>\n",
       "</table>\n",
       "</div>"
      ],
      "text/plain": [
       "   preg  plas  pres  skin  insu  mass   pedi  age  class\n",
       "0     6   148    72    35     0  33.6  0.627   50      1\n",
       "1     1    85    66    29     0  26.6  0.351   31      0\n",
       "2     8   183    64     0     0  23.3  0.672   32      1\n",
       "3     1    89    66    23    94  28.1  0.167   21      0\n",
       "4     0   137    40    35   168  43.1  2.288   33      1"
      ]
     },
     "execution_count": 5,
     "metadata": {},
     "output_type": "execute_result"
    }
   ],
   "source": [
    "df = pd.read_csv('diabetes.csv')\n",
    "df.head()"
   ]
  },
  {
   "cell_type": "code",
   "execution_count": 6,
   "id": "49727631",
   "metadata": {},
   "outputs": [
    {
     "data": {
      "text/plain": [
       "count    768.000000\n",
       "mean      33.240885\n",
       "std       11.760232\n",
       "min       21.000000\n",
       "25%       24.000000\n",
       "50%       29.000000\n",
       "75%       41.000000\n",
       "max       81.000000\n",
       "Name: age, dtype: float64"
      ]
     },
     "execution_count": 6,
     "metadata": {},
     "output_type": "execute_result"
    }
   ],
   "source": [
    "df.age.describe()"
   ]
  },
  {
   "cell_type": "code",
   "execution_count": 7,
   "id": "20a0075a",
   "metadata": {},
   "outputs": [
    {
     "data": {
      "image/png": "[encoded data removed]",
      "text/plain": [
       "<Figure size 432x288 with 1 Axes>"
      ]
     },
     "metadata": {
      "needs_background": "light"
     },
     "output_type": "display_data"
    }
   ],
   "source": [
    "sb.histplot(df.age, bins =30, kde=True)\n",
    "plt.xlabel(\"Age\")\n",
    "plt.ylabel(\"Frequency\")\n",
    "plt.title(\"Age distribution\")\n",
    "plt.show()"
   ]
  },
  {
   "cell_type": "markdown",
   "id": "ead09de7",
   "metadata": {},
   "source": [
    "mean age = 33.240885 std.dev = 11.760232"
   ]
  },
  {
   "cell_type": "markdown",
   "id": "dbcdd403",
   "metadata": {},
   "source": [
    "#### Q3"
   ]
  },
  {
   "cell_type": "code",
   "execution_count": 8,
   "id": "5fb0efaa",
   "metadata": {},
   "outputs": [
    {
     "data": {
      "text/html": [
       "<div>\n",
       "<style scoped>\n",
       "    .dataframe tbody tr th:only-of-type {\n",
       "        vertical-align: middle;\n",
       "    }\n",
       "\n",
       "    .dataframe tbody tr th {\n",
       "        vertical-align: top;\n",
       "    }\n",
       "\n",
       "    .dataframe thead th {\n",
       "        text-align: right;\n",
       "    }\n",
       "</style>\n",
       "<table border=\"1\" class=\"dataframe\">\n",
       "  <thead>\n",
       "    <tr style=\"text-align: right;\">\n",
       "      <th></th>\n",
       "      <th>class</th>\n",
       "      <th>mass</th>\n",
       "      <th>age</th>\n",
       "    </tr>\n",
       "  </thead>\n",
       "  <tbody>\n",
       "    <tr>\n",
       "      <th>class</th>\n",
       "      <td>1.000000</td>\n",
       "      <td>0.292695</td>\n",
       "      <td>0.238356</td>\n",
       "    </tr>\n",
       "    <tr>\n",
       "      <th>mass</th>\n",
       "      <td>0.292695</td>\n",
       "      <td>1.000000</td>\n",
       "      <td>0.036242</td>\n",
       "    </tr>\n",
       "    <tr>\n",
       "      <th>age</th>\n",
       "      <td>0.238356</td>\n",
       "      <td>0.036242</td>\n",
       "      <td>1.000000</td>\n",
       "    </tr>\n",
       "  </tbody>\n",
       "</table>\n",
       "</div>"
      ],
      "text/plain": [
       "          class      mass       age\n",
       "class  1.000000  0.292695  0.238356\n",
       "mass   0.292695  1.000000  0.036242\n",
       "age    0.238356  0.036242  1.000000"
      ]
     },
     "execution_count": 8,
     "metadata": {},
     "output_type": "execute_result"
    }
   ],
   "source": [
    "df[['class','mass','age']].corr()"
   ]
  },
  {
   "cell_type": "markdown",
   "id": "ad2b2fdf",
   "metadata": {},
   "source": [
    "therefore age and BMI have a slight positive correlation with class. class and age have a correlation of 0.238356 while class and BMI have a correlation of 0.292695"
   ]
  },
  {
   "cell_type": "markdown",
   "id": "7df73c73",
   "metadata": {},
   "source": [
    "#### Q4"
   ]
  },
  {
   "cell_type": "code",
   "execution_count": 9,
   "id": "0be679b5",
   "metadata": {},
   "outputs": [
    {
     "data": {
      "text/html": [
       "<div>\n",
       "<style scoped>\n",
       "    .dataframe tbody tr th:only-of-type {\n",
       "        vertical-align: middle;\n",
       "    }\n",
       "\n",
       "    .dataframe tbody tr th {\n",
       "        vertical-align: top;\n",
       "    }\n",
       "\n",
       "    .dataframe thead th {\n",
       "        text-align: right;\n",
       "    }\n",
       "</style>\n",
       "<table border=\"1\" class=\"dataframe\">\n",
       "  <thead>\n",
       "    <tr style=\"text-align: right;\">\n",
       "      <th></th>\n",
       "      <th>preg</th>\n",
       "      <th>plas</th>\n",
       "      <th>pres</th>\n",
       "      <th>skin</th>\n",
       "      <th>insu</th>\n",
       "      <th>mass</th>\n",
       "      <th>pedi</th>\n",
       "      <th>age</th>\n",
       "    </tr>\n",
       "    <tr>\n",
       "      <th>class</th>\n",
       "      <th></th>\n",
       "      <th></th>\n",
       "      <th></th>\n",
       "      <th></th>\n",
       "      <th></th>\n",
       "      <th></th>\n",
       "      <th></th>\n",
       "      <th></th>\n",
       "    </tr>\n",
       "  </thead>\n",
       "  <tbody>\n",
       "    <tr>\n",
       "      <th>0</th>\n",
       "      <td>500</td>\n",
       "      <td>500</td>\n",
       "      <td>500</td>\n",
       "      <td>500</td>\n",
       "      <td>500</td>\n",
       "      <td>500</td>\n",
       "      <td>500</td>\n",
       "      <td>500</td>\n",
       "    </tr>\n",
       "    <tr>\n",
       "      <th>1</th>\n",
       "      <td>268</td>\n",
       "      <td>268</td>\n",
       "      <td>268</td>\n",
       "      <td>268</td>\n",
       "      <td>268</td>\n",
       "      <td>268</td>\n",
       "      <td>268</td>\n",
       "      <td>268</td>\n",
       "    </tr>\n",
       "  </tbody>\n",
       "</table>\n",
       "</div>"
      ],
      "text/plain": [
       "       preg  plas  pres  skin  insu  mass  pedi  age\n",
       "class                                               \n",
       "0       500   500   500   500   500   500   500  500\n",
       "1       268   268   268   268   268   268   268  268"
      ]
     },
     "execution_count": 9,
     "metadata": {},
     "output_type": "execute_result"
    }
   ],
   "source": [
    "df.groupby('class').count()"
   ]
  },
  {
   "cell_type": "markdown",
   "id": "467772b3",
   "metadata": {},
   "source": [
    "therefore the dataset is unbalanxced with class = 0 (test negative for diabetese having almost double the number of instancse than class 1 : test positive for diabetese)"
   ]
  },
  {
   "cell_type": "markdown",
   "id": "0491b7fe",
   "metadata": {},
   "source": [
    "#### Q5"
   ]
  },
  {
   "cell_type": "code",
   "execution_count": 10,
   "id": "6528ef31",
   "metadata": {},
   "outputs": [],
   "source": [
    "feature_cols = ['preg','plas','pres','skin','insu','mass','pedi','age']\n",
    "X = df[feature_cols]\n",
    "y = df['class']"
   ]
  },
  {
   "cell_type": "code",
   "execution_count": 11,
   "id": "2db22d3a",
   "metadata": {},
   "outputs": [],
   "source": [
    "#splitting the data\n",
    "from sklearn.model_selection import train_test_split\n",
    "from sklearn.preprocessing import StandardScaler\n",
    "X_train,X_test,y_train,y_test=train_test_split(X,y,test_size=0.3,random_state=25)"
   ]
  },
  {
   "cell_type": "code",
   "execution_count": 13,
   "id": "0936b505",
   "metadata": {},
   "outputs": [
    {
     "name": "stdout",
     "output_type": "stream",
     "text": [
      "Score:  0.7690875232774674\n"
     ]
    }
   ],
   "source": [
    "#building a logistic regression\n",
    "from sklearn.linear_model import LogisticRegression\n",
    "logisticreg = LogisticRegression(max_iter = 1000)\n",
    "logisticreg.fit(X_train,y_train)\n",
    "y_pred=logisticreg.predict(X_test)\n",
    "score = logisticreg.score(X_train,y_train)\n",
    "print(\"Score: \",score)"
   ]
  },
  {
   "cell_type": "markdown",
   "id": "581234fd",
   "metadata": {},
   "source": [
    "#### Q6"
   ]
  },
  {
   "cell_type": "code",
   "execution_count": 14,
   "id": "63e4b2f4",
   "metadata": {},
   "outputs": [
    {
     "data": {
      "text/plain": [
       "array([[138,  22],\n",
       "       [ 25,  46]], dtype=int64)"
      ]
     },
     "execution_count": 14,
     "metadata": {},
     "output_type": "execute_result"
    }
   ],
   "source": [
    "# import the metrics class\n",
    "from sklearn import metrics\n",
    "confusion_matrix = metrics.confusion_matrix(y_test, y_pred)\n",
    "confusion_matrix"
   ]
  },
  {
   "cell_type": "markdown",
   "id": "61c4e3b2",
   "metadata": {},
   "source": [
    "visualization using a confusion matrix"
   ]
  },
  {
   "cell_type": "code",
   "execution_count": 16,
   "id": "fff6a8ae",
   "metadata": {},
   "outputs": [
    {
     "data": {
      "image/png": "[encoded data removed]",
      "text/plain": [
       "<Figure size 432x288 with 2 Axes>"
      ]
     },
     "metadata": {
      "needs_background": "light"
     },
     "output_type": "display_data"
    }
   ],
   "source": [
    "#displaying in the form of heatmap\n",
    "ax = plt.axes()\n",
    "df_cm = confusion_matrix\n",
    "sb.heatmap(df_cm, annot=True, annot_kws={\"size\": 30}, fmt='d',cmap=\"Blues\", ax = ax )\n",
    "ax.set_title('Confusion Matrix')\n",
    "plt.show()"
   ]
  },
  {
   "cell_type": "markdown",
   "id": "f04818cc",
   "metadata": {},
   "source": [
    "#### Q7"
   ]
  },
  {
   "cell_type": "code",
   "execution_count": 19,
   "id": "a0d8216a",
   "metadata": {},
   "outputs": [],
   "source": [
    "TN = confusion_matrix[0,0]\n",
    "TP = confusion_matrix[1,0]\n",
    "FP = confusion_matrix[0,1]\n",
    "FN = confusion_matrix[1,1]\n",
    "TNR = TN / (TN+FP)"
   ]
  },
  {
   "cell_type": "code",
   "execution_count": 20,
   "id": "a9eb7d02",
   "metadata": {},
   "outputs": [
    {
     "name": "stdout",
     "output_type": "stream",
     "text": [
      "Accuracy: 0.7965367965367965\n",
      "Precision: 0.6764705882352942\n",
      "Recall: 0.647887323943662\n",
      "Specificity: 0.8625\n"
     ]
    }
   ],
   "source": [
    "print(\"Accuracy:\",metrics.accuracy_score(y_test, y_pred))\n",
    "print(\"Precision:\",metrics.precision_score(y_test, y_pred))\n",
    "print(\"Recall:\",metrics.recall_score(y_test, y_pred))\n",
    "print(\"Specificity:\",TNR)"
   ]
  },
  {
   "cell_type": "markdown",
   "id": "58d103dd",
   "metadata": {},
   "source": [
    "#### Q8"
   ]
  },
  {
   "cell_type": "code",
   "execution_count": 26,
   "id": "49475026",
   "metadata": {},
   "outputs": [
    {
     "data": {
      "image/png": "[encoded data removed]",
      "text/plain": [
       "<Figure size 432x288 with 1 Axes>"
      ]
     },
     "metadata": {
      "needs_background": "light"
     },
     "output_type": "display_data"
    }
   ],
   "source": [
    "from sklearn.metrics import roc_curve\n",
    "Y_pred_proba = logisticreg.predict_proba(X_test)[::, 1]\n",
    "fpr, tpr, _ = roc_curve(y_test, Y_pred_proba)\n",
    "plt.plot(fpr,tpr)\n",
    "plt.ylabel('True Positive Rate')\n",
    "plt.xlabel('False Positive Rate')\n",
    "plt.show()"
   ]
  }
 ],
 "metadata": {
  "kernelspec": {
   "display_name": "Python 3",
   "language": "python",
   "name": "python3"
  },
  "language_info": {
   "codemirror_mode": {
    "name": "ipython",
    "version": 3
   },
   "file_extension": ".py",
   "mimetype": "text/x-python",
   "name": "python",
   "nbconvert_exporter": "python",
   "pygments_lexer": "ipython3",
   "version": "3.8.8"
  }
 },
 "nbformat": 4,
 "nbformat_minor": 5
}
