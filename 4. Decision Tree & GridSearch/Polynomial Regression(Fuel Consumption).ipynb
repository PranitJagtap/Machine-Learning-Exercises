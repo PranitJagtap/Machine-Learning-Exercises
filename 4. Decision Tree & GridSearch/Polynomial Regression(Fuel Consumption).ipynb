{
 "cells": [
  {
   "cell_type": "markdown",
   "id": "5d4920ba",
   "metadata": {},
   "source": [
    "# Week 4 Exercise 2"
   ]
  },
  {
   "cell_type": "markdown",
   "id": "2a69e181",
   "metadata": {},
   "source": [
    "# Imports"
   ]
  },
  {
   "cell_type": "code",
   "execution_count": 1,
   "id": "0445f807",
   "metadata": {},
   "outputs": [],
   "source": [
    "import numpy as np\n",
    "import pandas as pd\n",
    "import matplotlib.pyplot as plt\n",
    "import seaborn as sns"
   ]
  },
  {
   "cell_type": "markdown",
   "id": "342964a1",
   "metadata": {},
   "source": [
    "# Importing Dataset"
   ]
  },
  {
   "cell_type": "code",
   "execution_count": 2,
   "id": "c09d35dd",
   "metadata": {},
   "outputs": [
    {
     "data": {
      "text/html": [
       "<div>\n",
       "<style scoped>\n",
       "    .dataframe tbody tr th:only-of-type {\n",
       "        vertical-align: middle;\n",
       "    }\n",
       "\n",
       "    .dataframe tbody tr th {\n",
       "        vertical-align: top;\n",
       "    }\n",
       "\n",
       "    .dataframe thead th {\n",
       "        text-align: right;\n",
       "    }\n",
       "</style>\n",
       "<table border=\"1\" class=\"dataframe\">\n",
       "  <thead>\n",
       "    <tr style=\"text-align: right;\">\n",
       "      <th></th>\n",
       "      <th>MODELYEAR</th>\n",
       "      <th>MAKE</th>\n",
       "      <th>MODEL</th>\n",
       "      <th>VEHICLECLASS</th>\n",
       "      <th>ENGINESIZE</th>\n",
       "      <th>CYLINDERS</th>\n",
       "      <th>TRANSMISSION</th>\n",
       "      <th>FUELTYPE</th>\n",
       "      <th>FUELCONSUMPTION_CITY</th>\n",
       "      <th>FUELCONSUMPTION_HWY</th>\n",
       "      <th>FUELCONSUMPTION_COMB</th>\n",
       "      <th>FUELCONSUMPTION_COMB_MPG</th>\n",
       "      <th>CO2EMISSIONS</th>\n",
       "    </tr>\n",
       "  </thead>\n",
       "  <tbody>\n",
       "    <tr>\n",
       "      <th>0</th>\n",
       "      <td>2014</td>\n",
       "      <td>ACURA</td>\n",
       "      <td>ILX</td>\n",
       "      <td>COMPACT</td>\n",
       "      <td>2.0</td>\n",
       "      <td>4</td>\n",
       "      <td>AS5</td>\n",
       "      <td>Z</td>\n",
       "      <td>9.9</td>\n",
       "      <td>6.7</td>\n",
       "      <td>8.5</td>\n",
       "      <td>33</td>\n",
       "      <td>196</td>\n",
       "    </tr>\n",
       "    <tr>\n",
       "      <th>1</th>\n",
       "      <td>2014</td>\n",
       "      <td>ACURA</td>\n",
       "      <td>ILX</td>\n",
       "      <td>COMPACT</td>\n",
       "      <td>2.4</td>\n",
       "      <td>4</td>\n",
       "      <td>M6</td>\n",
       "      <td>Z</td>\n",
       "      <td>11.2</td>\n",
       "      <td>7.7</td>\n",
       "      <td>9.6</td>\n",
       "      <td>29</td>\n",
       "      <td>221</td>\n",
       "    </tr>\n",
       "    <tr>\n",
       "      <th>2</th>\n",
       "      <td>2014</td>\n",
       "      <td>ACURA</td>\n",
       "      <td>ILX HYBRID</td>\n",
       "      <td>COMPACT</td>\n",
       "      <td>1.5</td>\n",
       "      <td>4</td>\n",
       "      <td>AV7</td>\n",
       "      <td>Z</td>\n",
       "      <td>6.0</td>\n",
       "      <td>5.8</td>\n",
       "      <td>5.9</td>\n",
       "      <td>48</td>\n",
       "      <td>136</td>\n",
       "    </tr>\n",
       "    <tr>\n",
       "      <th>3</th>\n",
       "      <td>2014</td>\n",
       "      <td>ACURA</td>\n",
       "      <td>MDX 4WD</td>\n",
       "      <td>SUV - SMALL</td>\n",
       "      <td>3.5</td>\n",
       "      <td>6</td>\n",
       "      <td>AS6</td>\n",
       "      <td>Z</td>\n",
       "      <td>12.7</td>\n",
       "      <td>9.1</td>\n",
       "      <td>11.1</td>\n",
       "      <td>25</td>\n",
       "      <td>255</td>\n",
       "    </tr>\n",
       "    <tr>\n",
       "      <th>4</th>\n",
       "      <td>2014</td>\n",
       "      <td>ACURA</td>\n",
       "      <td>RDX AWD</td>\n",
       "      <td>SUV - SMALL</td>\n",
       "      <td>3.5</td>\n",
       "      <td>6</td>\n",
       "      <td>AS6</td>\n",
       "      <td>Z</td>\n",
       "      <td>12.1</td>\n",
       "      <td>8.7</td>\n",
       "      <td>10.6</td>\n",
       "      <td>27</td>\n",
       "      <td>244</td>\n",
       "    </tr>\n",
       "  </tbody>\n",
       "</table>\n",
       "</div>"
      ],
      "text/plain": [
       "   MODELYEAR   MAKE       MODEL VEHICLECLASS  ENGINESIZE  CYLINDERS  \\\n",
       "0       2014  ACURA         ILX      COMPACT         2.0          4   \n",
       "1       2014  ACURA         ILX      COMPACT         2.4          4   \n",
       "2       2014  ACURA  ILX HYBRID      COMPACT         1.5          4   \n",
       "3       2014  ACURA     MDX 4WD  SUV - SMALL         3.5          6   \n",
       "4       2014  ACURA     RDX AWD  SUV - SMALL         3.5          6   \n",
       "\n",
       "  TRANSMISSION FUELTYPE  FUELCONSUMPTION_CITY  FUELCONSUMPTION_HWY  \\\n",
       "0          AS5        Z                   9.9                  6.7   \n",
       "1           M6        Z                  11.2                  7.7   \n",
       "2          AV7        Z                   6.0                  5.8   \n",
       "3          AS6        Z                  12.7                  9.1   \n",
       "4          AS6        Z                  12.1                  8.7   \n",
       "\n",
       "   FUELCONSUMPTION_COMB  FUELCONSUMPTION_COMB_MPG  CO2EMISSIONS  \n",
       "0                   8.5                        33           196  \n",
       "1                   9.6                        29           221  \n",
       "2                   5.9                        48           136  \n",
       "3                  11.1                        25           255  \n",
       "4                  10.6                        27           244  "
      ]
     },
     "execution_count": 2,
     "metadata": {},
     "output_type": "execute_result"
    }
   ],
   "source": [
    "df = pd.read_csv('FuelConsumption.csv')\n",
    "df.head()"
   ]
  },
  {
   "cell_type": "markdown",
   "id": "0baefe07",
   "metadata": {},
   "source": [
    "# Selecting Features as Given"
   ]
  },
  {
   "cell_type": "code",
   "execution_count": 3,
   "id": "83734c34",
   "metadata": {},
   "outputs": [
    {
     "data": {
      "text/html": [
       "<div>\n",
       "<style scoped>\n",
       "    .dataframe tbody tr th:only-of-type {\n",
       "        vertical-align: middle;\n",
       "    }\n",
       "\n",
       "    .dataframe tbody tr th {\n",
       "        vertical-align: top;\n",
       "    }\n",
       "\n",
       "    .dataframe thead th {\n",
       "        text-align: right;\n",
       "    }\n",
       "</style>\n",
       "<table border=\"1\" class=\"dataframe\">\n",
       "  <thead>\n",
       "    <tr style=\"text-align: right;\">\n",
       "      <th></th>\n",
       "      <th>ENGINESIZE</th>\n",
       "      <th>CYLINDERS</th>\n",
       "      <th>FUELCONSUMPTION_COMB</th>\n",
       "      <th>CO2EMISSIONS</th>\n",
       "    </tr>\n",
       "  </thead>\n",
       "  <tbody>\n",
       "    <tr>\n",
       "      <th>0</th>\n",
       "      <td>2.0</td>\n",
       "      <td>4</td>\n",
       "      <td>8.5</td>\n",
       "      <td>196</td>\n",
       "    </tr>\n",
       "    <tr>\n",
       "      <th>1</th>\n",
       "      <td>2.4</td>\n",
       "      <td>4</td>\n",
       "      <td>9.6</td>\n",
       "      <td>221</td>\n",
       "    </tr>\n",
       "    <tr>\n",
       "      <th>2</th>\n",
       "      <td>1.5</td>\n",
       "      <td>4</td>\n",
       "      <td>5.9</td>\n",
       "      <td>136</td>\n",
       "    </tr>\n",
       "    <tr>\n",
       "      <th>3</th>\n",
       "      <td>3.5</td>\n",
       "      <td>6</td>\n",
       "      <td>11.1</td>\n",
       "      <td>255</td>\n",
       "    </tr>\n",
       "    <tr>\n",
       "      <th>4</th>\n",
       "      <td>3.5</td>\n",
       "      <td>6</td>\n",
       "      <td>10.6</td>\n",
       "      <td>244</td>\n",
       "    </tr>\n",
       "    <tr>\n",
       "      <th>...</th>\n",
       "      <td>...</td>\n",
       "      <td>...</td>\n",
       "      <td>...</td>\n",
       "      <td>...</td>\n",
       "    </tr>\n",
       "    <tr>\n",
       "      <th>1062</th>\n",
       "      <td>3.0</td>\n",
       "      <td>6</td>\n",
       "      <td>11.8</td>\n",
       "      <td>271</td>\n",
       "    </tr>\n",
       "    <tr>\n",
       "      <th>1063</th>\n",
       "      <td>3.2</td>\n",
       "      <td>6</td>\n",
       "      <td>11.5</td>\n",
       "      <td>264</td>\n",
       "    </tr>\n",
       "    <tr>\n",
       "      <th>1064</th>\n",
       "      <td>3.0</td>\n",
       "      <td>6</td>\n",
       "      <td>11.8</td>\n",
       "      <td>271</td>\n",
       "    </tr>\n",
       "    <tr>\n",
       "      <th>1065</th>\n",
       "      <td>3.2</td>\n",
       "      <td>6</td>\n",
       "      <td>11.3</td>\n",
       "      <td>260</td>\n",
       "    </tr>\n",
       "    <tr>\n",
       "      <th>1066</th>\n",
       "      <td>3.2</td>\n",
       "      <td>6</td>\n",
       "      <td>12.8</td>\n",
       "      <td>294</td>\n",
       "    </tr>\n",
       "  </tbody>\n",
       "</table>\n",
       "<p>1067 rows × 4 columns</p>\n",
       "</div>"
      ],
      "text/plain": [
       "      ENGINESIZE  CYLINDERS  FUELCONSUMPTION_COMB  CO2EMISSIONS\n",
       "0            2.0          4                   8.5           196\n",
       "1            2.4          4                   9.6           221\n",
       "2            1.5          4                   5.9           136\n",
       "3            3.5          6                  11.1           255\n",
       "4            3.5          6                  10.6           244\n",
       "...          ...        ...                   ...           ...\n",
       "1062         3.0          6                  11.8           271\n",
       "1063         3.2          6                  11.5           264\n",
       "1064         3.0          6                  11.8           271\n",
       "1065         3.2          6                  11.3           260\n",
       "1066         3.2          6                  12.8           294\n",
       "\n",
       "[1067 rows x 4 columns]"
      ]
     },
     "execution_count": 3,
     "metadata": {},
     "output_type": "execute_result"
    }
   ],
   "source": [
    "cols = ['ENGINESIZE', 'CYLINDERS', 'FUELCONSUMPTION_COMB', 'CO2EMISSIONS']\n",
    "\n",
    "df = df[cols]\n",
    "df"
   ]
  },
  {
   "cell_type": "markdown",
   "id": "2cca74a0",
   "metadata": {},
   "source": [
    "# Finding Unique Values"
   ]
  },
  {
   "cell_type": "code",
   "execution_count": 4,
   "id": "734c4a6e",
   "metadata": {},
   "outputs": [
    {
     "name": "stdout",
     "output_type": "stream",
     "text": [
      "Unique values in ENGINESIZE:\n",
      " [2.  2.4 1.5 3.5 3.7 5.9 4.7 3.  4.  6.3 4.2 5.2 6.  6.8 4.4 3.6 1.4 2.5\n",
      " 6.2 1.8 4.3 5.3 4.8 1.2 5.7 6.4 4.6 5.4 1.6 5.  1.  5.8 3.8 3.3 5.6 3.2\n",
      " 6.5 5.5 2.1 3.4 2.7 6.6 6.7 1.3 8.4]\n",
      "Unique values in CYLINDERS:\n",
      " [ 4  6 12  8 10  3  5]\n",
      "Unique values in FUELCONSUMPTION_COMB:\n",
      " [ 8.5  9.6  5.9 11.1 10.6 10.  10.1 11.6  9.2  9.8 10.4 15.6 14.7 15.4\n",
      "  8.8  9.3 10.2 10.9  8.3 11.2 11.3  8.4 12.5 15.7 10.5  9.1 13.2 14.6\n",
      " 17.7 17.8 13.3 13.4 12.6 11.4 12.4 12.2 12.9 12.7 10.3 15.5 13.9 16.5\n",
      " 14.  19.   8.7  6.7  9.9  7.9 10.7 13.8 11.  16.1 11.9 14.1 12.1 12.3\n",
      " 11.5  8.2  9.5  9.  10.8 12.8 16.6 14.8 20.1 16.4 22.1 11.8 11.7 12.\n",
      "  7.8  7.1  7.7 16.2 17.  15.1 15.9 20.9 21.5 22.6 18.  18.8 25.7 18.2\n",
      " 18.9 25.8 14.3  8.  16.8 16.9 13.  17.3  7.5  6.9 18.4  8.1 14.4 13.1\n",
      "  8.6  7.3  7.2  6.8  6.  21.9 17.2 22.5 23.  21.2 18.3 23.9  9.4 16.\n",
      " 21.6 16.7 17.5 19.7 14.9 20.  19.9  7.6  6.6  7.   8.9  5.5  4.8  6.3\n",
      "  6.2 14.5 15.  18.1 13.7 13.5 15.8  9.7 17.4 21.4 20.7  5.6 15.3  7.4\n",
      " 15.2 14.2  6.4 13.6 17.1  5.7  4.7  5.4]\n",
      "Unique values in CO2EMISSIONS:\n",
      " [196 221 136 255 244 230 232 267 212 225 239 359 338 354 202 214 235 251\n",
      " 224 258 260 227 288 361 242 246 304 294 336 407 409 306 308 290 262 285\n",
      " 281 297 292 209 237 356 320 380 322 437 193 200 181 228 213 191 317 253\n",
      " 370 274 324 278 283 264 250 189 218 207 248 382 340 377 271 269 276 179\n",
      " 192 177 163 259 272 347 366 334 344 362 414 432 411 419 435 413 229 184\n",
      " 270 299 277 329 173 182 172 159 186 222 301 198 195 168 331 166 156 138\n",
      " 373 350 396 360 386 368 488 421 216 346 254 402 315 343 318 175 152 161\n",
      " 205 165 170 162 126 110 145 265 143 345 280 310 363 223 400 342 129 352\n",
      " 194 256 327 147 398 313 286 275 393 389 131 108 384 197 124]\n"
     ]
    }
   ],
   "source": [
    "for i in range(len(df.columns)):\n",
    "    print(f\"Unique values in {df.columns[i]}:\\n\", df[df.columns[i]].unique())"
   ]
  },
  {
   "cell_type": "markdown",
   "id": "399f2320",
   "metadata": {},
   "source": [
    "# Scatter Plotting Engine Size and CO2 Emission"
   ]
  },
  {
   "cell_type": "code",
   "execution_count": 5,
   "id": "517acb02",
   "metadata": {},
   "outputs": [
    {
     "data": {
      "image/png": "[encoded data removed]",
      "text/plain": [
       "<Figure size 432x288 with 1 Axes>"
      ]
     },
     "metadata": {
      "needs_background": "light"
     },
     "output_type": "display_data"
    }
   ],
   "source": [
    "plt.scatter(df['ENGINESIZE'], df['CO2EMISSIONS'])\n",
    "plt.xlabel('Engine Size')\n",
    "plt.ylabel('CO2 Emission')\n",
    "plt.show()"
   ]
  },
  {
   "cell_type": "markdown",
   "id": "e2465088",
   "metadata": {},
   "source": [
    "# Using Polynomial Regression for Different Degrees"
   ]
  },
  {
   "cell_type": "code",
   "execution_count": 6,
   "id": "fe7a60b2",
   "metadata": {},
   "outputs": [
    {
     "name": "stdout",
     "output_type": "stream",
     "text": [
      "R2 score for 3 degree is  0.9322474349854045\n",
      "Mean Squared Error for 3 degree is  273.2797687958474\n",
      "Mean Absolute Error for 3 degree is  10.230711579366215\n",
      "\n",
      "\n",
      "R2 score for 4 degree is  0.9407945298015606\n",
      "Mean Squared Error for 4 degree is  238.80508736154076\n",
      "Mean Absolute Error for 4 degree is  8.250441311658195\n",
      "\n",
      "\n",
      "R2 score for 5 degree is  0.9424416921692133\n",
      "Mean Squared Error for 5 degree is  232.16126286715658\n",
      "Mean Absolute Error for 5 degree is  8.236270743227555\n",
      "\n",
      "\n"
     ]
    }
   ],
   "source": [
    "from sklearn.metrics import mean_squared_error, mean_absolute_error, r2_score\n",
    "from sklearn.linear_model import LinearRegression\n",
    "from sklearn.preprocessing import PolynomialFeatures\n",
    "from sklearn.model_selection import train_test_split\n",
    "\n",
    "# List containing degrees\n",
    "degrees     = [3, 4, 5]\n",
    "mse_errors  = []\n",
    "mae_errors  = []\n",
    "r2_scores   = []\n",
    "\n",
    "# Calculating and storing all the scores\n",
    "for i in degrees:\n",
    "    X = df.copy()\n",
    "    y = X.pop('CO2EMISSIONS')\n",
    "    X.head()\n",
    "    X = np.array(X)\n",
    "    y = np.array(y)\n",
    "\n",
    "    # Polynomial Features\n",
    "    poly = PolynomialFeatures(degree=i, include_bias=False)\n",
    "    poly_features = poly.fit_transform(X)\n",
    "    X_train, X_test, y_train, y_test = train_test_split(poly_features, y, test_size=0.3, random_state=42)\n",
    "\n",
    "    # Linear Regression\n",
    "    poly_reg = LinearRegression()\n",
    "    poly_reg.fit(X_train, y_train)\n",
    "    y_pred = poly_reg.predict(X_test)\n",
    "\n",
    "    # root mean squared error\n",
    "    poly_reg_r2 = r2_score(y_test, y_pred)\n",
    "    print(f\"R2 score for {i} degree is \", poly_reg_r2)\n",
    "    r2_scores.append(poly_reg_r2)\n",
    "\n",
    "    # mean squared error\n",
    "    poly_reg_mse = mean_squared_error(y_test, y_pred)\n",
    "    print(f\"Mean Squared Error for {i} degree is \", poly_reg_mse)\n",
    "    mse_errors.append(poly_reg_mse)\n",
    "\n",
    "    # mean absolute error\n",
    "    poly_reg_mae = mean_absolute_error(y_test, y_pred)\n",
    "    print(f\"Mean Absolute Error for {i} degree is \", poly_reg_mae)\n",
    "    mae_errors.append(poly_reg_mae)\n",
    "    print(\"\\n\")"
   ]
  },
  {
   "cell_type": "markdown",
   "id": "908035fc",
   "metadata": {},
   "source": [
    "# Conclusion"
   ]
  },
  {
   "cell_type": "markdown",
   "id": "c3a7d734",
   "metadata": {},
   "source": [
    "### According to Errors above\n",
    "* Model with Degree 5 has highest r2 score\n",
    "* Model with Degree 5 has least mean squred error\n",
    "* Model with Degree 5 has least mean absolute error\n",
    "\n",
    "#### **Model with degree 5 is the best according to above findings**"
   ]
  },
  {
   "cell_type": "code",
   "execution_count": null,
   "id": "fe4c9cf4",
   "metadata": {},
   "outputs": [],
   "source": []
  }
 ],
 "metadata": {
  "kernelspec": {
   "display_name": "Python 3 (ipykernel)",
   "language": "python",
   "name": "python3"
  },
  "language_info": {
   "codemirror_mode": {
    "name": "ipython",
    "version": 3
   },
   "file_extension": ".py",
   "mimetype": "text/x-python",
   "name": "python",
   "nbconvert_exporter": "python",
   "pygments_lexer": "ipython3",
   "version": "3.9.7"
  }
 },
 "nbformat": 4,
 "nbformat_minor": 5
}
