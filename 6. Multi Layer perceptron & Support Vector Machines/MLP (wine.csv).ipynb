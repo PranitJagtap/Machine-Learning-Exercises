{
 "cells": [
  {
   "cell_type": "markdown",
   "id": "0d0ea0b5",
   "metadata": {},
   "source": [
    "# MetaData"
   ]
  },
  {
   "cell_type": "markdown",
   "id": "24e6e05c",
   "metadata": {},
   "source": [
    "* Dataset Characteristics   = Multivariate\n",
    "* Number of instances       = 178\n",
    "* Attribute Characteristics = Integer, Real\n",
    "* Number of Attributes      = 13\n",
    "* Associated Tasks          = Classification\n",
    "* Missing Values            = No"
   ]
  },
  {
   "cell_type": "markdown",
   "id": "987c5fe1",
   "metadata": {},
   "source": [
    "**Data Set Information:**\n",
    "\n",
    "These data are the results of a chemical analysis of wines grown in the same region in Italy but derived from three different cultivars. The analysis determined the quantities of 13 constituents found in each of the three types of wines.\n",
    "\n",
    "I think that the initial data set had around 30 variables, but for some reason I only have the 13 dimensional version. I had a list of what the 30 or so variables were, but a.) I lost it, and b.), I would not know which 13 variables are included in the set.\n",
    "\n",
    "The attributes are:\n",
    "* 1) Alcohol\n",
    "* 2) Malic acid\n",
    "* 3) Ash\n",
    "* 4) Alcalinity of ash\n",
    "* 5) Magnesium\n",
    "* 6) Total phenols\n",
    "* 7) Flavanoids\n",
    "* 8) Nonflavanoid phenols\n",
    "* 9) Proanthocyanins\n",
    "* 10) Color intensity\n",
    "* 11) Hue\n",
    "* 12) OD280/OD315 of diluted wines\n",
    "* 13) Proline"
   ]
  },
  {
   "cell_type": "markdown",
   "id": "ac6e916b",
   "metadata": {},
   "source": [
    "# Setup"
   ]
  },
  {
   "cell_type": "code",
   "execution_count": 101,
   "id": "405f38f6",
   "metadata": {},
   "outputs": [],
   "source": [
    "import numpy as np\n",
    "import pandas as pd\n",
    "import seaborn as sns\n",
    "import matplotlib.pyplot as plt\n",
    "\n",
    "from sklearn.pipeline import Pipeline\n",
    "from sklearn.compose import ColumnTransformer\n",
    "from sklearn.preprocessing import RobustScaler\n",
    "\n",
    "from sklearn.neural_network import MLPClassifier\n",
    "\n",
    "from sklearn.model_selection import train_test_split\n",
    "\n",
    "from sklearn.metrics import precision_score, recall_score, f1_score, classification_report"
   ]
  },
  {
   "cell_type": "markdown",
   "id": "68b8cb3b",
   "metadata": {},
   "source": [
    "# Importing Data"
   ]
  },
  {
   "cell_type": "code",
   "execution_count": 40,
   "id": "de53f973",
   "metadata": {},
   "outputs": [
    {
     "data": {
      "text/html": [
       "<div>\n",
       "<style scoped>\n",
       "    .dataframe tbody tr th:only-of-type {\n",
       "        vertical-align: middle;\n",
       "    }\n",
       "\n",
       "    .dataframe tbody tr th {\n",
       "        vertical-align: top;\n",
       "    }\n",
       "\n",
       "    .dataframe thead th {\n",
       "        text-align: right;\n",
       "    }\n",
       "</style>\n",
       "<table border=\"1\" class=\"dataframe\">\n",
       "  <thead>\n",
       "    <tr style=\"text-align: right;\">\n",
       "      <th></th>\n",
       "      <th>Class</th>\n",
       "      <th>Alcohol</th>\n",
       "      <th>Malic acid</th>\n",
       "      <th>Ash</th>\n",
       "      <th>Alcalinity of ash</th>\n",
       "      <th>Magnesium</th>\n",
       "      <th>Total phenols</th>\n",
       "      <th>Flavanoids</th>\n",
       "      <th>Nonflavanoid phenols</th>\n",
       "      <th>Proanthocyanins</th>\n",
       "      <th>Color intensity</th>\n",
       "      <th>Hue</th>\n",
       "      <th>OD280/OD315 of diluted wines</th>\n",
       "      <th>Proline</th>\n",
       "    </tr>\n",
       "  </thead>\n",
       "  <tbody>\n",
       "    <tr>\n",
       "      <th>0</th>\n",
       "      <td>1</td>\n",
       "      <td>14.23</td>\n",
       "      <td>1.71</td>\n",
       "      <td>2.43</td>\n",
       "      <td>15.6</td>\n",
       "      <td>127</td>\n",
       "      <td>2.80</td>\n",
       "      <td>3.06</td>\n",
       "      <td>0.28</td>\n",
       "      <td>2.29</td>\n",
       "      <td>5.64</td>\n",
       "      <td>1.04</td>\n",
       "      <td>3.92</td>\n",
       "      <td>1065</td>\n",
       "    </tr>\n",
       "    <tr>\n",
       "      <th>1</th>\n",
       "      <td>1</td>\n",
       "      <td>13.20</td>\n",
       "      <td>1.78</td>\n",
       "      <td>2.14</td>\n",
       "      <td>11.2</td>\n",
       "      <td>100</td>\n",
       "      <td>2.65</td>\n",
       "      <td>2.76</td>\n",
       "      <td>0.26</td>\n",
       "      <td>1.28</td>\n",
       "      <td>4.38</td>\n",
       "      <td>1.05</td>\n",
       "      <td>3.40</td>\n",
       "      <td>1050</td>\n",
       "    </tr>\n",
       "    <tr>\n",
       "      <th>2</th>\n",
       "      <td>1</td>\n",
       "      <td>13.16</td>\n",
       "      <td>2.36</td>\n",
       "      <td>2.67</td>\n",
       "      <td>18.6</td>\n",
       "      <td>101</td>\n",
       "      <td>2.80</td>\n",
       "      <td>3.24</td>\n",
       "      <td>0.30</td>\n",
       "      <td>2.81</td>\n",
       "      <td>5.68</td>\n",
       "      <td>1.03</td>\n",
       "      <td>3.17</td>\n",
       "      <td>1185</td>\n",
       "    </tr>\n",
       "    <tr>\n",
       "      <th>3</th>\n",
       "      <td>1</td>\n",
       "      <td>14.37</td>\n",
       "      <td>1.95</td>\n",
       "      <td>2.50</td>\n",
       "      <td>16.8</td>\n",
       "      <td>113</td>\n",
       "      <td>3.85</td>\n",
       "      <td>3.49</td>\n",
       "      <td>0.24</td>\n",
       "      <td>2.18</td>\n",
       "      <td>7.80</td>\n",
       "      <td>0.86</td>\n",
       "      <td>3.45</td>\n",
       "      <td>1480</td>\n",
       "    </tr>\n",
       "    <tr>\n",
       "      <th>4</th>\n",
       "      <td>1</td>\n",
       "      <td>13.24</td>\n",
       "      <td>2.59</td>\n",
       "      <td>2.87</td>\n",
       "      <td>21.0</td>\n",
       "      <td>118</td>\n",
       "      <td>2.80</td>\n",
       "      <td>2.69</td>\n",
       "      <td>0.39</td>\n",
       "      <td>1.82</td>\n",
       "      <td>4.32</td>\n",
       "      <td>1.04</td>\n",
       "      <td>2.93</td>\n",
       "      <td>735</td>\n",
       "    </tr>\n",
       "  </tbody>\n",
       "</table>\n",
       "</div>"
      ],
      "text/plain": [
       "   Class  Alcohol  Malic acid   Ash  Alcalinity of ash  Magnesium  \\\n",
       "0      1    14.23        1.71  2.43               15.6        127   \n",
       "1      1    13.20        1.78  2.14               11.2        100   \n",
       "2      1    13.16        2.36  2.67               18.6        101   \n",
       "3      1    14.37        1.95  2.50               16.8        113   \n",
       "4      1    13.24        2.59  2.87               21.0        118   \n",
       "\n",
       "   Total phenols  Flavanoids  Nonflavanoid phenols  Proanthocyanins  \\\n",
       "0           2.80        3.06                  0.28             2.29   \n",
       "1           2.65        2.76                  0.26             1.28   \n",
       "2           2.80        3.24                  0.30             2.81   \n",
       "3           3.85        3.49                  0.24             2.18   \n",
       "4           2.80        2.69                  0.39             1.82   \n",
       "\n",
       "   Color intensity   Hue  OD280/OD315 of diluted wines  Proline   \n",
       "0             5.64  1.04                          3.92      1065  \n",
       "1             4.38  1.05                          3.40      1050  \n",
       "2             5.68  1.03                          3.17      1185  \n",
       "3             7.80  0.86                          3.45      1480  \n",
       "4             4.32  1.04                          2.93       735  "
      ]
     },
     "execution_count": 40,
     "metadata": {},
     "output_type": "execute_result"
    }
   ],
   "source": [
    "df = pd.read_csv('wine.csv')\n",
    "df.head()"
   ]
  },
  {
   "cell_type": "markdown",
   "id": "931f1297",
   "metadata": {},
   "source": [
    "# Information About Dataset"
   ]
  },
  {
   "cell_type": "code",
   "execution_count": 41,
   "id": "19d8aae3",
   "metadata": {},
   "outputs": [
    {
     "name": "stdout",
     "output_type": "stream",
     "text": [
      "<class 'pandas.core.frame.DataFrame'>\n",
      "RangeIndex: 178 entries, 0 to 177\n",
      "Data columns (total 14 columns):\n",
      " #   Column                        Non-Null Count  Dtype  \n",
      "---  ------                        --------------  -----  \n",
      " 0   Class                         178 non-null    int64  \n",
      " 1   Alcohol                       178 non-null    float64\n",
      " 2   Malic acid                    178 non-null    float64\n",
      " 3   Ash                           178 non-null    float64\n",
      " 4   Alcalinity of ash             178 non-null    float64\n",
      " 5   Magnesium                     178 non-null    int64  \n",
      " 6   Total phenols                 178 non-null    float64\n",
      " 7   Flavanoids                    178 non-null    float64\n",
      " 8   Nonflavanoid phenols          178 non-null    float64\n",
      " 9   Proanthocyanins               178 non-null    float64\n",
      " 10  Color intensity               178 non-null    float64\n",
      " 11  Hue                           178 non-null    float64\n",
      " 12  OD280/OD315 of diluted wines  178 non-null    float64\n",
      " 13  Proline                       178 non-null    int64  \n",
      "dtypes: float64(11), int64(3)\n",
      "memory usage: 19.6 KB\n"
     ]
    }
   ],
   "source": [
    "df.info()"
   ]
  },
  {
   "cell_type": "markdown",
   "id": "41c02b50",
   "metadata": {},
   "source": [
    "# Checking for Unique Values"
   ]
  },
  {
   "cell_type": "code",
   "execution_count": 42,
   "id": "f294f022",
   "metadata": {
    "scrolled": true
   },
   "outputs": [
    {
     "name": "stdout",
     "output_type": "stream",
     "text": [
      "Unique values in column Class: [1 2 3]\n",
      "Unique values in column Alcohol: [14.23 13.2  13.16 14.37 13.24 14.2  14.39 14.06 14.83 13.86 14.1  14.12\n",
      " 13.75 14.75 14.38 13.63 14.3  13.83 14.19 13.64 12.93 13.71 12.85 13.5\n",
      " 13.05 13.39 13.3  13.87 14.02 13.73 13.58 13.68 13.76 13.51 13.48 13.28\n",
      " 13.07 14.22 13.56 13.41 13.88 14.21 13.9  13.94 13.82 13.77 13.74 13.29\n",
      " 13.72 12.37 12.33 12.64 13.67 12.17 13.11 13.34 12.21 12.29 13.49 12.99\n",
      " 11.96 11.66 13.03 11.84 12.7  12.   12.72 12.08 12.67 12.16 11.65 11.64\n",
      " 12.69 11.62 12.47 11.81 12.6  12.34 11.82 12.51 12.42 12.25 12.22 11.61\n",
      " 11.46 12.52 11.76 11.41 11.03 12.77 11.45 11.56 11.87 12.07 12.43 11.79\n",
      " 12.04 12.86 12.88 12.81 12.53 12.84 13.36 13.52 13.62 12.87 13.32 13.08\n",
      " 12.79 13.23 12.58 13.17 13.84 12.45 14.34 12.36 13.69 12.96 13.78 13.45\n",
      " 12.82 13.4  12.2  14.16 13.27 14.13]\n",
      "Unique values in column Malic acid: [1.71 1.78 2.36 1.95 2.59 1.76 1.87 2.15 1.64 1.35 2.16 1.48 1.73 1.81\n",
      " 1.92 1.57 1.59 3.1  1.63 3.8  1.86 1.6  2.05 1.77 1.72 1.9  1.68 1.5\n",
      " 1.66 1.83 1.53 1.8  1.65 3.99 3.84 1.89 3.98 4.04 3.59 2.02 1.75 1.67\n",
      " 1.7  1.97 1.43 0.94 1.1  1.36 1.25 1.13 1.45 1.21 1.01 1.17 1.19 1.61\n",
      " 1.51 1.09 1.88 0.9  2.89 0.99 3.87 0.92 3.86 0.89 0.98 2.06 1.33 2.83\n",
      " 1.99 1.52 2.12 1.41 1.07 3.17 2.08 1.34 2.45 2.55 1.29 3.74 2.43 2.68\n",
      " 0.74 1.39 1.47 3.43 2.4  4.43 5.8  4.31 2.13 4.3  2.99 2.31 3.55 1.24\n",
      " 2.46 4.72 5.51 2.96 2.81 2.56 4.95 3.88 3.57 5.04 4.61 3.24 3.9  3.12\n",
      " 2.67 3.3  5.19 4.12 3.03 3.83 3.26 3.27 3.45 2.76 4.36 3.7  3.37 2.58\n",
      " 4.6  2.39 2.51 5.65 3.91 4.28 4.1 ]\n",
      "Unique values in column Ash: [2.43 2.14 2.67 2.5  2.87 2.45 2.61 2.17 2.27 2.3  2.32 2.41 2.39 2.38\n",
      " 2.7  2.72 2.62 2.48 2.56 2.28 2.65 2.36 2.52 3.22 2.8  2.21 2.84 2.55\n",
      " 2.1  2.51 2.31 2.12 2.59 2.29 2.44 2.4  2.04 2.6  2.42 2.68 2.25 2.46\n",
      " 1.36 2.02 1.92 2.16 2.53 1.7  1.75 2.24 1.71 2.23 1.95 2.   2.2  2.58\n",
      " 2.26 2.22 2.74 1.98 1.9  1.88 1.94 1.82 2.92 1.99 2.19 3.23 2.73 2.13\n",
      " 2.78 2.54 2.64 2.35 2.15 2.75 2.69 2.86 2.37]\n",
      "Unique values in column Alcalinity of ash: [15.6 11.2 18.6 16.8 21.  15.2 14.6 17.6 14.  16.  18.  11.4 12.  17.2\n",
      " 20.  16.5 16.6 17.8 25.  16.1 17.  19.4 22.5 19.1 19.5 19.  20.5 15.5\n",
      " 13.2 16.2 18.8 15.  17.5 18.9 17.4 12.4 17.1 16.4 16.3 16.7 10.6 18.1\n",
      " 19.6 20.4 24.  30.  14.8 23.  22.8 26.  21.6 23.6 18.5 22.  20.7 21.5\n",
      " 20.8 28.5 26.5 24.5 23.5 25.5 27. ]\n",
      "Unique values in column Magnesium: [127 100 101 113 118 112  96 121  97  98 105  95  89  91 102 120 115 108\n",
      " 116 126 124  93  94 107 106 104 132 110 128 117  90 103 111  92  88  87\n",
      "  78 151  86 139 136  85  99  84  70  81  80 162 134 119  82 122 123]\n",
      "Unique values in column Total phenols: [2.8  2.65 3.85 3.27 2.5  2.6  2.98 2.95 2.2  3.1  3.3  2.85 2.7  3.\n",
      " 2.41 2.61 2.48 2.53 2.63 2.4  2.86 2.42 2.35 2.45 3.15 3.25 2.64 2.75\n",
      " 2.88 2.72 3.88 2.96 3.2  3.4  1.98 2.05 2.02 2.1  3.5  1.89 2.11 1.85\n",
      " 1.1  1.88 3.38 1.61 1.95 1.72 1.9  2.83 2.   1.65 1.78 1.92 1.6  1.45\n",
      " 1.38 3.02 2.55 3.52 2.23 2.56 1.68 2.36 2.74 3.18 1.75 2.46 1.63 2.9\n",
      " 2.62 2.13 2.22 1.51 1.3  1.15 1.7  1.62 1.79 2.32 1.54 1.4  1.55 1.5\n",
      " 0.98 1.93 1.41 1.48 1.8  1.74 2.3  1.83 1.39 1.35 1.28 1.25 1.59]\n",
      "Unique values in column Flavanoids: [3.06 2.76 3.24 3.49 2.69 3.39 2.52 2.51 2.98 3.15 3.32 2.43 3.69 3.64\n",
      " 2.91 3.14 3.4  3.93 3.03 3.17 2.41 2.88 2.37 2.61 2.68 2.94 2.19 2.97\n",
      " 2.33 3.25 3.19 2.74 2.53 2.64 3.04 3.29 3.56 2.63 3.   2.65 2.92 3.54\n",
      " 3.27 2.99 3.74 2.79 2.9  2.78 3.23 3.67 0.57 1.09 1.41 1.79 3.1  1.75\n",
      " 3.18 2.   1.3  1.28 1.02 2.86 1.84 2.89 2.14 1.57 2.03 1.32 1.85 2.55\n",
      " 2.26 1.58 1.59 2.21 1.94 1.69 1.61 1.5  1.25 1.46 2.25 2.27 0.99 2.5\n",
      " 3.75 2.17 1.36 2.11 1.64 1.92 1.76 2.04 2.58 2.01 2.29 1.6  2.09 5.08\n",
      " 2.13 2.24 2.45 1.22 1.2  0.58 0.66 0.47 0.6  0.48 0.5  0.52 0.8  0.78\n",
      " 0.55 0.34 0.65 0.76 1.39 0.83 0.63 1.31 1.1  0.92 0.56 0.7  0.68 0.84\n",
      " 0.96 0.49 0.51 0.61 0.75 0.69]\n",
      "Unique values in column Nonflavanoid phenols: [0.28 0.26 0.3  0.24 0.39 0.34 0.31 0.29 0.22 0.43 0.33 0.4  0.32 0.17\n",
      " 0.25 0.27 0.47 0.37 0.42 0.5  0.2  0.21 0.19 0.63 0.53 0.45 0.55 0.14\n",
      " 0.13 0.35 0.61 0.48 0.52 0.58 0.66 0.6  0.41 0.44 0.56]\n",
      "Unique values in column Proanthocyanins: [2.29 1.28 2.81 2.18 1.82 1.97 1.98 1.25 1.85 2.38 1.57 1.81 2.96 1.46\n",
      " 1.72 1.86 1.66 2.1  1.69 1.92 1.45 1.35 1.76 1.95 1.54 1.36 1.44 1.37\n",
      " 2.08 2.34 1.48 1.7  2.03 2.19 2.14 2.91 1.87 1.68 1.62 2.45 2.04 0.42\n",
      " 0.41 0.62 0.73 1.03 2.28 1.04 2.5  1.96 1.65 1.15 0.95 2.76 1.43 1.77\n",
      " 1.4  2.35 1.56 1.34 1.38 1.64 1.63 1.99 3.28 1.31 1.42 2.49 3.58 1.22\n",
      " 1.05 2.01 1.53 1.61 0.83 1.83 1.71 1.9  0.94 0.84 0.8  1.1  0.88 0.81\n",
      " 0.75 0.64 0.55 1.02 1.14 1.3  0.68 0.86 1.26 1.55 2.7  0.96 0.97 1.11\n",
      " 1.24 1.06 1.41]\n",
      "Unique values in column Color intensity: [ 5.64      4.38      5.68      7.8       4.32      6.75      5.25\n",
      "  5.05      5.2       7.22      5.75      5.        5.6       5.4\n",
      "  7.5       7.3       6.2       6.6       8.7       5.1       5.65\n",
      "  4.5       3.8       3.93      3.52      3.58      4.8       3.95\n",
      "  4.7       5.7       6.9       3.84      4.2       4.6       4.25\n",
      "  3.7       6.13      4.28      5.43      4.36      5.04      5.24\n",
      "  4.9       6.1       8.9       7.2       7.05      6.3       5.85\n",
      "  6.25      6.38      6.        6.8       1.95      3.27      4.45\n",
      "  2.95      5.3       4.68      3.17      2.85      3.05      3.38\n",
      "  3.74      3.35      3.21      2.65      3.4       2.57      2.5\n",
      "  3.9       2.2       2.62      2.45      2.6       2.8       1.74\n",
      "  2.4       3.6       2.15      3.25      2.9       2.3       3.3\n",
      "  2.06      2.94      2.7       2.        3.08      1.9       1.28\n",
      "  2.08      2.76      3.94      3.        2.12      4.1       5.45\n",
      "  7.1       3.85      4.92      4.35      4.4       8.21      4.\n",
      "  7.65      8.42      9.4       8.6      10.8      10.52      7.6\n",
      "  7.9       9.01     13.       11.75      5.88      5.58      5.28\n",
      "  9.58      6.62     10.68     10.26      8.66      8.5       5.5\n",
      "  9.899999  9.7       7.7      10.2       9.3       9.2     ]\n",
      "Unique values in column Hue: [1.04  1.05  1.03  0.86  1.02  1.06  1.08  1.01  1.25  1.17  1.15  1.2\n",
      " 1.28  1.07  1.13  1.23  0.96  1.09  1.11  1.12  0.92  1.19  1.1   1.18\n",
      " 0.89  0.95  0.91  0.88  0.82  0.87  1.24  0.98  0.94  1.22  1.45  0.906\n",
      " 1.36  1.31  0.99  1.38  1.16  0.84  0.79  1.33  1.    1.42  1.27  0.8\n",
      " 0.75  0.9   0.93  1.71  0.7   0.73  0.69  0.97  0.76  0.74  0.66  0.78\n",
      " 0.81  0.77  0.65  0.6   0.58  0.54  0.55  0.57  0.59  0.48  0.61  0.56\n",
      " 0.67  0.68  0.85  0.72  0.62  0.64 ]\n",
      "Unique values in column OD280/OD315 of diluted wines: [3.92 3.4  3.17 3.45 2.93 2.85 3.58 3.55 2.82 2.9  2.73 3.   2.88 2.65\n",
      " 2.57 3.36 3.71 3.52 4.   3.63 3.82 3.2  3.22 2.77 3.59 2.71 2.87 3.47\n",
      " 2.78 2.51 2.69 3.53 3.38 3.56 3.35 3.33 3.44 2.75 3.1  2.91 3.37 3.26\n",
      " 3.03 3.31 2.84 1.82 1.67 1.59 2.46 2.23 2.3  3.18 3.48 1.93 3.07 3.16\n",
      " 3.5  3.13 2.14 2.48 2.52 2.31 3.12 3.14 2.72 2.01 3.08 2.26 3.21 2.27\n",
      " 2.06 3.3  2.96 2.63 2.74 2.83 2.44 3.57 2.42 3.02 2.81 2.5  3.19 2.12\n",
      " 3.05 3.39 3.69 3.64 3.28 1.29 1.42 1.36 1.51 1.58 1.27 1.69 2.15 2.47\n",
      " 2.05 2.   1.68 1.33 1.86 1.62 1.3  1.47 1.55 1.48 1.64 1.73 1.96 1.78\n",
      " 2.11 1.75 1.56 1.8  1.92 1.83 1.63 1.71 1.74 1.6 ]\n",
      "Unique values in column Proline : [1065 1050 1185 1480  735 1450 1290 1295 1045 1510 1280 1320 1150 1547\n",
      " 1310 1130 1680  845  780  770 1035 1015  830 1195 1285  915 1515  990\n",
      " 1235 1095  920  880 1105 1020  760  795  680  885 1080  985 1060 1260\n",
      " 1265 1190 1375 1120  970 1270  520  450  630  420  355  678  502  510\n",
      "  750  718  870  410  472  886  428  392  500  463  278  714  515  495\n",
      "  562  625  480  290  345  937  660  406  710  438  415  672  315  488\n",
      "  312  325  607  434  385  407  372  564  465  365  380  378  352  466\n",
      "  342  580  530  560  600  650  695  720  590  550  855  425  675  640\n",
      "  725  620  570  615  685  470  740  835  840]\n"
     ]
    }
   ],
   "source": [
    "for i in range(len(df.columns)):\n",
    "    print(f'Unique values in column {df.columns[i]}:', df[df.columns[i]].unique())"
   ]
  },
  {
   "cell_type": "markdown",
   "id": "5c1fbc97",
   "metadata": {},
   "source": [
    "# Splitting Data"
   ]
  },
  {
   "cell_type": "code",
   "execution_count": 43,
   "id": "d9bbd22e",
   "metadata": {
    "scrolled": true
   },
   "outputs": [
    {
     "data": {
      "text/html": [
       "<div>\n",
       "<style scoped>\n",
       "    .dataframe tbody tr th:only-of-type {\n",
       "        vertical-align: middle;\n",
       "    }\n",
       "\n",
       "    .dataframe tbody tr th {\n",
       "        vertical-align: top;\n",
       "    }\n",
       "\n",
       "    .dataframe thead th {\n",
       "        text-align: right;\n",
       "    }\n",
       "</style>\n",
       "<table border=\"1\" class=\"dataframe\">\n",
       "  <thead>\n",
       "    <tr style=\"text-align: right;\">\n",
       "      <th></th>\n",
       "      <th>Alcohol</th>\n",
       "      <th>Malic acid</th>\n",
       "      <th>Ash</th>\n",
       "      <th>Alcalinity of ash</th>\n",
       "      <th>Magnesium</th>\n",
       "      <th>Total phenols</th>\n",
       "      <th>Flavanoids</th>\n",
       "      <th>Nonflavanoid phenols</th>\n",
       "      <th>Proanthocyanins</th>\n",
       "      <th>Color intensity</th>\n",
       "      <th>Hue</th>\n",
       "      <th>OD280/OD315 of diluted wines</th>\n",
       "      <th>Proline</th>\n",
       "    </tr>\n",
       "  </thead>\n",
       "  <tbody>\n",
       "    <tr>\n",
       "      <th>count</th>\n",
       "      <td>178.000000</td>\n",
       "      <td>178.000000</td>\n",
       "      <td>178.000000</td>\n",
       "      <td>178.000000</td>\n",
       "      <td>178.000000</td>\n",
       "      <td>178.000000</td>\n",
       "      <td>178.000000</td>\n",
       "      <td>178.000000</td>\n",
       "      <td>178.000000</td>\n",
       "      <td>178.000000</td>\n",
       "      <td>178.000000</td>\n",
       "      <td>178.000000</td>\n",
       "      <td>178.000000</td>\n",
       "    </tr>\n",
       "    <tr>\n",
       "      <th>mean</th>\n",
       "      <td>13.000618</td>\n",
       "      <td>2.336348</td>\n",
       "      <td>2.366517</td>\n",
       "      <td>19.494944</td>\n",
       "      <td>99.741573</td>\n",
       "      <td>2.295112</td>\n",
       "      <td>2.029270</td>\n",
       "      <td>0.361854</td>\n",
       "      <td>1.590899</td>\n",
       "      <td>5.058090</td>\n",
       "      <td>0.957449</td>\n",
       "      <td>2.611685</td>\n",
       "      <td>746.893258</td>\n",
       "    </tr>\n",
       "    <tr>\n",
       "      <th>std</th>\n",
       "      <td>0.811827</td>\n",
       "      <td>1.117146</td>\n",
       "      <td>0.274344</td>\n",
       "      <td>3.339564</td>\n",
       "      <td>14.282484</td>\n",
       "      <td>0.625851</td>\n",
       "      <td>0.998859</td>\n",
       "      <td>0.124453</td>\n",
       "      <td>0.572359</td>\n",
       "      <td>2.318286</td>\n",
       "      <td>0.228572</td>\n",
       "      <td>0.709990</td>\n",
       "      <td>314.907474</td>\n",
       "    </tr>\n",
       "    <tr>\n",
       "      <th>min</th>\n",
       "      <td>11.030000</td>\n",
       "      <td>0.740000</td>\n",
       "      <td>1.360000</td>\n",
       "      <td>10.600000</td>\n",
       "      <td>70.000000</td>\n",
       "      <td>0.980000</td>\n",
       "      <td>0.340000</td>\n",
       "      <td>0.130000</td>\n",
       "      <td>0.410000</td>\n",
       "      <td>1.280000</td>\n",
       "      <td>0.480000</td>\n",
       "      <td>1.270000</td>\n",
       "      <td>278.000000</td>\n",
       "    </tr>\n",
       "    <tr>\n",
       "      <th>25%</th>\n",
       "      <td>12.362500</td>\n",
       "      <td>1.602500</td>\n",
       "      <td>2.210000</td>\n",
       "      <td>17.200000</td>\n",
       "      <td>88.000000</td>\n",
       "      <td>1.742500</td>\n",
       "      <td>1.205000</td>\n",
       "      <td>0.270000</td>\n",
       "      <td>1.250000</td>\n",
       "      <td>3.220000</td>\n",
       "      <td>0.782500</td>\n",
       "      <td>1.937500</td>\n",
       "      <td>500.500000</td>\n",
       "    </tr>\n",
       "    <tr>\n",
       "      <th>50%</th>\n",
       "      <td>13.050000</td>\n",
       "      <td>1.865000</td>\n",
       "      <td>2.360000</td>\n",
       "      <td>19.500000</td>\n",
       "      <td>98.000000</td>\n",
       "      <td>2.355000</td>\n",
       "      <td>2.135000</td>\n",
       "      <td>0.340000</td>\n",
       "      <td>1.555000</td>\n",
       "      <td>4.690000</td>\n",
       "      <td>0.965000</td>\n",
       "      <td>2.780000</td>\n",
       "      <td>673.500000</td>\n",
       "    </tr>\n",
       "    <tr>\n",
       "      <th>75%</th>\n",
       "      <td>13.677500</td>\n",
       "      <td>3.082500</td>\n",
       "      <td>2.557500</td>\n",
       "      <td>21.500000</td>\n",
       "      <td>107.000000</td>\n",
       "      <td>2.800000</td>\n",
       "      <td>2.875000</td>\n",
       "      <td>0.437500</td>\n",
       "      <td>1.950000</td>\n",
       "      <td>6.200000</td>\n",
       "      <td>1.120000</td>\n",
       "      <td>3.170000</td>\n",
       "      <td>985.000000</td>\n",
       "    </tr>\n",
       "    <tr>\n",
       "      <th>max</th>\n",
       "      <td>14.830000</td>\n",
       "      <td>5.800000</td>\n",
       "      <td>3.230000</td>\n",
       "      <td>30.000000</td>\n",
       "      <td>162.000000</td>\n",
       "      <td>3.880000</td>\n",
       "      <td>5.080000</td>\n",
       "      <td>0.660000</td>\n",
       "      <td>3.580000</td>\n",
       "      <td>13.000000</td>\n",
       "      <td>1.710000</td>\n",
       "      <td>4.000000</td>\n",
       "      <td>1680.000000</td>\n",
       "    </tr>\n",
       "  </tbody>\n",
       "</table>\n",
       "</div>"
      ],
      "text/plain": [
       "          Alcohol  Malic acid         Ash  Alcalinity of ash   Magnesium  \\\n",
       "count  178.000000  178.000000  178.000000         178.000000  178.000000   \n",
       "mean    13.000618    2.336348    2.366517          19.494944   99.741573   \n",
       "std      0.811827    1.117146    0.274344           3.339564   14.282484   \n",
       "min     11.030000    0.740000    1.360000          10.600000   70.000000   \n",
       "25%     12.362500    1.602500    2.210000          17.200000   88.000000   \n",
       "50%     13.050000    1.865000    2.360000          19.500000   98.000000   \n",
       "75%     13.677500    3.082500    2.557500          21.500000  107.000000   \n",
       "max     14.830000    5.800000    3.230000          30.000000  162.000000   \n",
       "\n",
       "       Total phenols  Flavanoids  Nonflavanoid phenols  Proanthocyanins  \\\n",
       "count     178.000000  178.000000            178.000000       178.000000   \n",
       "mean        2.295112    2.029270              0.361854         1.590899   \n",
       "std         0.625851    0.998859              0.124453         0.572359   \n",
       "min         0.980000    0.340000              0.130000         0.410000   \n",
       "25%         1.742500    1.205000              0.270000         1.250000   \n",
       "50%         2.355000    2.135000              0.340000         1.555000   \n",
       "75%         2.800000    2.875000              0.437500         1.950000   \n",
       "max         3.880000    5.080000              0.660000         3.580000   \n",
       "\n",
       "       Color intensity         Hue  OD280/OD315 of diluted wines     Proline   \n",
       "count       178.000000  178.000000                    178.000000   178.000000  \n",
       "mean          5.058090    0.957449                      2.611685   746.893258  \n",
       "std           2.318286    0.228572                      0.709990   314.907474  \n",
       "min           1.280000    0.480000                      1.270000   278.000000  \n",
       "25%           3.220000    0.782500                      1.937500   500.500000  \n",
       "50%           4.690000    0.965000                      2.780000   673.500000  \n",
       "75%           6.200000    1.120000                      3.170000   985.000000  \n",
       "max          13.000000    1.710000                      4.000000  1680.000000  "
      ]
     },
     "execution_count": 43,
     "metadata": {},
     "output_type": "execute_result"
    }
   ],
   "source": [
    "X = df.copy()\n",
    "y = X.pop('Class')\n",
    "\n",
    "X.describe()"
   ]
  },
  {
   "cell_type": "markdown",
   "id": "bfd88864",
   "metadata": {},
   "source": [
    "# Displaying Distribution of Numeric Variables"
   ]
  },
  {
   "cell_type": "code",
   "execution_count": 44,
   "id": "44e8f2d1",
   "metadata": {},
   "outputs": [
    {
     "data": {
      "image/png": "[encoded data removed]",
      "text/plain": [
       "<Figure size 360x360 with 1 Axes>"
      ]
     },
     "metadata": {
      "needs_background": "light"
     },
     "output_type": "display_data"
    },
    {
     "data": {
      "image/png": "[encoded data removed]",
      "text/plain": [
       "<Figure size 360x360 with 1 Axes>"
      ]
     },
     "metadata": {
      "needs_background": "light"
     },
     "output_type": "display_data"
    },
    {
     "data": {
      "image/png": "[encoded data removed]",
      "text/plain": [
       "<Figure size 360x360 with 1 Axes>"
      ]
     },
     "metadata": {
      "needs_background": "light"
     },
     "output_type": "display_data"
    },
    {
     "data": {
      "image/png": "[encoded data removed]",
      "text/plain": [
       "<Figure size 360x360 with 1 Axes>"
      ]
     },
     "metadata": {
      "needs_background": "light"
     },
     "output_type": "display_data"
    },
    {
     "data": {
      "image/png": "[encoded data removed]",
      "text/plain": [
       "<Figure size 360x360 with 1 Axes>"
      ]
     },
     "metadata": {
      "needs_background": "light"
     },
     "output_type": "display_data"
    },
    {
     "data": {
      "image/png": "[encoded data removed]",
      "text/plain": [
       "<Figure size 360x360 with 1 Axes>"
      ]
     },
     "metadata": {
      "needs_background": "light"
     },
     "output_type": "display_data"
    },
    {
     "data": {
      "image/png": "[encoded data removed]",
      "text/plain": [
       "<Figure size 360x360 with 1 Axes>"
      ]
     },
     "metadata": {
      "needs_background": "light"
     },
     "output_type": "display_data"
    },
    {
     "data": {
      "image/png": "[encoded data removed]",
      "text/plain": [
       "<Figure size 360x360 with 1 Axes>"
      ]
     },
     "metadata": {
      "needs_background": "light"
     },
     "output_type": "display_data"
    },
    {
     "data": {
      "image/png": "[encoded data removed]",
      "text/plain": [
       "<Figure size 360x360 with 1 Axes>"
      ]
     },
     "metadata": {
      "needs_background": "light"
     },
     "output_type": "display_data"
    },
    {
     "data": {
      "image/png": "[encoded data removed]",
      "text/plain": [
       "<Figure size 360x360 with 1 Axes>"
      ]
     },
     "metadata": {
      "needs_background": "light"
     },
     "output_type": "display_data"
    },
    {
     "data": {
      "image/png": "[encoded data removed]",
      "text/plain": [
       "<Figure size 360x360 with 1 Axes>"
      ]
     },
     "metadata": {
      "needs_background": "light"
     },
     "output_type": "display_data"
    },
    {
     "data": {
      "image/png": "[encoded data removed]",
      "text/plain": [
       "<Figure size 360x360 with 1 Axes>"
      ]
     },
     "metadata": {
      "needs_background": "light"
     },
     "output_type": "display_data"
    },
    {
     "data": {
      "image/png": "[encoded data removed]",
      "text/plain": [
       "<Figure size 360x360 with 1 Axes>"
      ]
     },
     "metadata": {
      "needs_background": "light"
     },
     "output_type": "display_data"
    }
   ],
   "source": [
    "for i in X.columns:\n",
    "    sns.displot(X[i])"
   ]
  },
  {
   "cell_type": "markdown",
   "id": "38a9e917",
   "metadata": {},
   "source": [
    "### Converting X and y into Numpy Arrays"
   ]
  },
  {
   "cell_type": "code",
   "execution_count": 45,
   "id": "66ce677a",
   "metadata": {},
   "outputs": [],
   "source": [
    "X = np.array(X)\n",
    "y = np.array(y)"
   ]
  },
  {
   "cell_type": "markdown",
   "id": "08739a3e",
   "metadata": {},
   "source": [
    "# Scaling the Data using Robust Scaler\n",
    "This Scaler removes the median and scales the data according to the quantile range"
   ]
  },
  {
   "cell_type": "code",
   "execution_count": 81,
   "id": "836baedb",
   "metadata": {},
   "outputs": [],
   "source": [
    "scaler = RobustScaler()\n",
    "X_scaled = scaler.fit_transform(X)"
   ]
  },
  {
   "cell_type": "markdown",
   "id": "d5b1e0d2",
   "metadata": {},
   "source": [
    "# Splitting the Data into Train and Test Dataset"
   ]
  },
  {
   "cell_type": "code",
   "execution_count": 82,
   "id": "d28004fa",
   "metadata": {},
   "outputs": [
    {
     "name": "stdout",
     "output_type": "stream",
     "text": [
      "Shape of X_train (124, 13)\n",
      "Shape of X_test (54, 13)\n",
      "Shape of y_train (124,)\n",
      "Shape of y_test (54,)\n"
     ]
    }
   ],
   "source": [
    "X_train, X_test, y_train, y_test = train_test_split(X_scaled,\n",
    "                                                   y,\n",
    "                                                   test_size=0.3,\n",
    "                                                   random_state=42)\n",
    "\n",
    "print(f\"Shape of X_train {X_train.shape}\")\n",
    "print(f\"Shape of X_test {X_test.shape}\")\n",
    "print(f\"Shape of y_train {y_train.shape}\")\n",
    "print(f\"Shape of y_test {y_test.shape}\")"
   ]
  },
  {
   "cell_type": "markdown",
   "id": "c80f39e7",
   "metadata": {},
   "source": [
    "# Multi-Layer Perceptron using 3 Hidden Layers"
   ]
  },
  {
   "cell_type": "code",
   "execution_count": 85,
   "id": "4b1c846d",
   "metadata": {},
   "outputs": [
    {
     "data": {
      "text/plain": [
       "MLPClassifier(hidden_layer_sizes=(13, 13, 13), max_iter=500, random_state=42)"
      ]
     },
     "execution_count": 85,
     "metadata": {},
     "output_type": "execute_result"
    }
   ],
   "source": [
    "clf = MLPClassifier(hidden_layer_sizes=(13, 13, 13),\n",
    "                    random_state=42, \n",
    "                    max_iter=500)\n",
    "\n",
    "clf.fit(X_train, y_train)"
   ]
  },
  {
   "cell_type": "markdown",
   "id": "726765af",
   "metadata": {},
   "source": [
    "# Predicted Values and Accuracy Score"
   ]
  },
  {
   "cell_type": "code",
   "execution_count": 91,
   "id": "cfc4cd39",
   "metadata": {},
   "outputs": [
    {
     "data": {
      "text/plain": [
       "0.9814814814814815"
      ]
     },
     "execution_count": 91,
     "metadata": {},
     "output_type": "execute_result"
    }
   ],
   "source": [
    "y_score = clf.predict_proba(X_test)\n",
    "y_pred  = clf.predict(X_test)\n",
    "clf.score(X_test, y_test)"
   ]
  },
  {
   "cell_type": "markdown",
   "id": "92a0500b",
   "metadata": {},
   "source": [
    "# Tabulating all the Scores"
   ]
  },
  {
   "cell_type": "code",
   "execution_count": 100,
   "id": "430cd599",
   "metadata": {},
   "outputs": [
    {
     "name": "stdout",
     "output_type": "stream",
     "text": [
      "              precision    recall  f1-score   support\n",
      "\n",
      "           1       1.00      1.00      1.00        19\n",
      "           2       1.00      0.95      0.98        21\n",
      "           3       0.93      1.00      0.97        14\n",
      "\n",
      "    accuracy                           0.98        54\n",
      "   macro avg       0.98      0.98      0.98        54\n",
      "weighted avg       0.98      0.98      0.98        54\n",
      "\n"
     ]
    }
   ],
   "source": [
    "print(classification_report(y_test, y_pred))"
   ]
  },
  {
   "cell_type": "markdown",
   "id": "b016dcf8",
   "metadata": {},
   "source": [
    "# Displaying MLP Weights"
   ]
  },
  {
   "cell_type": "code",
   "execution_count": 74,
   "id": "0f6f6609",
   "metadata": {
    "scrolled": true
   },
   "outputs": [
    {
     "data": {
      "text/plain": [
       "[array([[-0.14057256,  0.44183169,  0.19677737,  0.073617  , -0.30129064,\n",
       "         -0.35821063, -0.41147411,  0.34082998,  0.07869672,  0.17342496,\n",
       "         -0.42922625,  0.42021425,  0.2904512 ],\n",
       "        [-0.29178734, -0.28949659, -0.27558573, -0.21175917,  0.01668158,\n",
       "         -0.09080675, -0.19866963,  0.08976533, -0.31683461, -0.22694298,\n",
       "         -0.1072766 , -0.03118567,  0.24619618],\n",
       "        [-0.30858826,  0.02231755,  0.07119627, -0.45706325,  0.08428387,\n",
       "         -0.34413213, -0.40474289,  0.42016481,  0.41615986,  0.26973548,\n",
       "         -0.16309351, -0.35626808,  0.15290366],\n",
       "        [-0.07625991, -0.35004955, -0.00300749, -0.47132353,  0.36287279,\n",
       "         -0.25980533,  0.16838612, -0.1934629 ,  0.01331283,  0.01760997,\n",
       "         -0.27422692,  0.41990598,  0.23682882],\n",
       "        [ 0.4014085 ,  0.38549703,  0.07591674,  0.38511524, -0.3649392 ,\n",
       "         -0.31997345, -0.42220016, -0.17697808, -0.08758258, -0.24611365,\n",
       "          0.28697331, -0.11585074, -0.18484423],\n",
       "        [ 0.01831244, -0.34709124,  0.26210269, -0.42596599,  0.43631231,\n",
       "          0.23317935, -0.26865968, -0.47941172,  0.27452293,  0.1727825 ,\n",
       "          0.19401728,  0.23323012, -0.37859682],\n",
       "        [-0.16125279, -0.38488959,  0.31927981,  0.10855982, -0.13914593,\n",
       "         -0.44844647, -0.15433972, -0.15886787,  0.19457068,  0.10678744,\n",
       "          0.3420019 , -0.01889929, -0.33558227],\n",
       "        [ 0.18830204,  0.26710192,  0.04507065,  0.23563527, -0.00389386,\n",
       "         -0.00538043, -0.06342635, -0.47249499, -0.3466211 , -0.47762379,\n",
       "          0.10974518, -0.15419061,  0.00543633],\n",
       "        [ 0.36864514, -0.24328107, -0.06880054,  0.22765218, -0.23316631,\n",
       "         -0.43550789, -0.17988365, -0.32850994,  0.38213634,  0.26956881,\n",
       "          0.10706808,  0.32715121,  0.26348289],\n",
       "        [-0.31057967,  0.39458482,  0.02762267,  0.27366395,  0.35037997,\n",
       "         -0.19787364, -0.38155648, -0.28220172, -0.05466453,  0.28033445,\n",
       "          0.31704589, -0.44215715,  0.00688067],\n",
       "        [-0.10136151, -0.26538517, -0.33532665, -0.17621623,  0.39463842,\n",
       "         -0.19904373,  0.03862305,  0.19071681, -0.10970952,  0.42661114,\n",
       "          0.41314199, -0.21180124, -0.00169858],\n",
       "        [-0.21429169, -0.20988596, -0.41377282,  0.08751393,  0.00165324,\n",
       "         -0.4599691 , -0.1902209 ,  0.39170296, -0.22314992, -0.36738988,\n",
       "         -0.00674693,  0.43513945, -0.22083232],\n",
       "        [ 0.14594556,  0.25981631, -0.2249393 ,  0.20196083, -0.10601272,\n",
       "          0.10044322,  0.13797852,  0.02066065, -0.36324109,  0.2976863 ,\n",
       "         -0.14833662, -0.27266774, -0.41008886]]),\n",
       " array([[ 3.77403627e-01,  3.32691445e-01, -2.41759846e-01,\n",
       "          1.54541141e-01,  3.33608402e-01,  4.74384641e-02,\n",
       "          2.31687497e-02, -2.21020950e-01, -3.75864536e-01,\n",
       "          3.64315659e-01,  3.54464703e-01,  1.06799199e-01,\n",
       "         -1.31787812e-01],\n",
       "        [-1.22616123e-01,  1.91199367e-01,  3.72967633e-01,\n",
       "          3.73132274e-01,  2.97606831e-01,  1.30371236e-01,\n",
       "         -4.05194615e-01, -2.96018996e-01,  3.98317459e-01,\n",
       "          8.54067307e-02, -4.40027230e-01, -3.52680652e-01,\n",
       "          1.34075650e-01],\n",
       "        [-4.43950993e-01, -2.96789970e-01,  3.49692652e-02,\n",
       "          1.59899889e-01,  1.23668623e-01, -2.37386056e-01,\n",
       "          1.78503865e-01, -2.25300585e-01, -1.44135729e-01,\n",
       "          2.10200220e-01,  1.21576223e-01,  3.06219014e-01,\n",
       "          1.28757892e-01],\n",
       "        [ 5.08540062e-02, -3.60043368e-01, -1.35740367e-01,\n",
       "         -2.24572636e-01, -2.17320530e-01,  4.48615871e-01,\n",
       "         -1.08178562e-01,  3.46562573e-01,  1.41087923e-01,\n",
       "          2.66427873e-01,  1.62702740e-03,  5.80235749e-02,\n",
       "         -4.72317450e-03],\n",
       "        [-2.64498204e-01,  1.87966521e-01, -1.84993665e-01,\n",
       "         -4.25688103e-01,  1.17843779e-01, -2.81486585e-01,\n",
       "          3.92318333e-01,  4.05071890e-01,  3.68111416e-01,\n",
       "         -1.03902917e-01, -4.34089389e-01,  3.80831890e-01,\n",
       "         -5.37670074e-02],\n",
       "        [ 4.17129152e-01,  4.14253173e-01,  3.38029241e-01,\n",
       "         -1.95475282e-01, -8.70738745e-02,  3.29779559e-01,\n",
       "         -1.81758487e-01, -2.88634341e-01,  6.83609782e-02,\n",
       "          4.12462758e-01,  1.63682647e-01,  5.23073923e-02,\n",
       "         -3.56736117e-01],\n",
       "        [ 9.08104832e-02,  4.39316552e-01, -3.46261227e-01,\n",
       "          2.07216027e-02,  3.87609747e-01,  2.22281467e-01,\n",
       "          1.82377763e-01,  1.69597603e-01, -1.19009702e-01,\n",
       "         -2.04720845e-01,  2.68808408e-01,  2.69512854e-01,\n",
       "          3.23017335e-01],\n",
       "        [ 3.66576831e-01,  7.27963345e-03,  8.70859035e-05,\n",
       "          2.85730199e-01,  1.62338633e-01,  1.90076752e-01,\n",
       "          2.77776582e-01,  3.44636507e-01, -1.45986584e-01,\n",
       "         -1.22767176e-01, -3.59753225e-01,  5.91808235e-02,\n",
       "         -4.14667982e-01],\n",
       "        [-2.38466040e-02,  3.01822293e-02, -1.79681083e-01,\n",
       "          6.98410594e-02, -4.19825530e-01, -4.13335775e-01,\n",
       "          2.81215764e-01, -1.12777683e-01, -3.28544704e-01,\n",
       "          1.48656730e-02,  2.32041020e-01, -2.45265642e-01,\n",
       "          9.77498491e-02],\n",
       "        [-3.67911196e-01, -3.99758912e-01,  2.32790851e-02,\n",
       "          4.06949042e-02,  1.60002031e-01,  2.10518726e-01,\n",
       "          4.51542760e-01,  1.06674751e-02, -1.54765379e-01,\n",
       "          2.68573499e-01, -1.94165627e-01, -4.48676352e-02,\n",
       "         -3.74425130e-01],\n",
       "        [-4.24707042e-01,  4.13332556e-01,  2.93772967e-01,\n",
       "          1.63631754e-01, -7.00241346e-02, -2.85066668e-01,\n",
       "         -3.00897375e-01, -2.13229387e-01,  3.53603344e-02,\n",
       "          1.80727672e-01,  1.31089917e-01, -1.85766469e-01,\n",
       "          4.05959099e-01],\n",
       "        [ 2.02237785e-01,  3.94582303e-02,  8.79307933e-02,\n",
       "         -6.09679760e-02, -2.15560669e-01, -1.16549520e-01,\n",
       "          2.20740674e-01, -4.35097764e-01, -3.38903069e-01,\n",
       "         -4.05137036e-01, -4.10132761e-01,  3.12086076e-01,\n",
       "          1.70674545e-01],\n",
       "        [-1.74613271e-02, -3.56115060e-01, -5.31364260e-03,\n",
       "         -1.79752021e-02, -2.85153413e-01, -4.90688776e-02,\n",
       "         -7.90261361e-02,  9.15503263e-02,  1.08572112e-01,\n",
       "         -4.05798751e-01, -9.99566308e-02,  1.00374712e-01,\n",
       "          1.93978579e-03]]),\n",
       " array([[ 0.39327073, -0.08983708,  0.41195123,  0.35912283, -0.26398522,\n",
       "         -0.38302652, -0.35333543, -0.4314668 , -0.35931777,  0.15178574,\n",
       "         -0.381298  , -0.14997953,  0.30213092],\n",
       "        [-0.42667798,  0.27359249, -0.18399626, -0.33693008,  0.16433033,\n",
       "          0.10310587,  0.3328165 ,  0.19962289,  0.26330403, -0.18383061,\n",
       "         -0.28117815,  0.21402524,  0.26644298],\n",
       "        [ 0.4397447 , -0.06689269, -0.12046047,  0.23876751, -0.16045345,\n",
       "          0.38313873,  0.3148642 , -0.08770903,  0.21420212,  0.25846354,\n",
       "         -0.35112081,  0.35648058,  0.00130431],\n",
       "        [ 0.28483378, -0.14900156,  0.38422946, -0.13390478, -0.4772809 ,\n",
       "          0.35915242, -0.36229927, -0.19500889,  0.40434189,  0.44765252,\n",
       "          0.05512015,  0.10567531, -0.05261169],\n",
       "        [-0.1735494 , -0.14117147,  0.16859059,  0.21569651,  0.27276979,\n",
       "          0.25034389, -0.36237538, -0.02653545, -0.452666  ,  0.06199171,\n",
       "         -0.04278414,  0.3424655 , -0.14711709],\n",
       "        [-0.33796531, -0.31354248,  0.25350094,  0.08732586, -0.39060113,\n",
       "         -0.36908375,  0.16820819, -0.43039728,  0.28220527,  0.21191702,\n",
       "         -0.3716907 , -0.36839295,  0.46361248],\n",
       "        [-0.10025905, -0.10347397,  0.3065471 ,  0.43035019,  0.45899056,\n",
       "          0.21659044, -0.09850057, -0.40096177,  0.25373133,  0.0506715 ,\n",
       "         -0.05707867,  0.36007091, -0.3677008 ],\n",
       "        [-0.00465313, -0.4379813 , -0.02154015, -0.39538343, -0.33631426,\n",
       "         -0.33753224,  0.12119673,  0.20978619,  0.06348016,  0.41288166,\n",
       "         -0.09972845, -0.18044417,  0.32445547],\n",
       "        [-0.23801382,  0.41387657, -0.45929722,  0.42190896, -0.44661547,\n",
       "          0.34571006,  0.01883739,  0.44782359, -0.4393752 ,  0.06975559,\n",
       "          0.4196386 ,  0.01548059,  0.1232127 ],\n",
       "        [ 0.1634253 , -0.03238426,  0.12550143,  0.05431232,  0.37807617,\n",
       "         -0.4056639 , -0.1848178 ,  0.41266947,  0.34763168, -0.02858691,\n",
       "          0.09531725, -0.18812028, -0.3032294 ],\n",
       "        [-0.02529072, -0.11889743,  0.06372386, -0.37510753,  0.42446581,\n",
       "          0.4356709 ,  0.16563511,  0.02513422, -0.15859934,  0.27296149,\n",
       "          0.15335794, -0.29509069,  0.36439089],\n",
       "        [ 0.28115638,  0.40116188,  0.19098136,  0.08941449, -0.06211496,\n",
       "          0.3850035 ,  0.32206758, -0.40587958, -0.42374361, -0.09832053,\n",
       "          0.26992487,  0.43668149, -0.30655728],\n",
       "        [ 0.07266992, -0.09441583,  0.42021856,  0.29954023,  0.29597899,\n",
       "         -0.02151581, -0.06501832, -0.19178767, -0.39531506,  0.32080424,\n",
       "          0.27212391,  0.44848641,  0.44556266]]),\n",
       " array([[-0.34127524,  0.14138719,  0.01348305,  0.23420638,  0.01338061,\n",
       "          0.30900116,  0.03749577,  0.04479367,  0.33204505, -0.07472397,\n",
       "         -0.32199306, -0.42145359,  0.21822402],\n",
       "        [ 0.09547318,  0.17106174, -0.24793244, -0.31977423, -0.43495437,\n",
       "         -0.12137824,  0.06905758, -0.08446789, -0.04609121,  0.35799706,\n",
       "         -0.12347375,  0.0090746 ,  0.2447748 ],\n",
       "        [-0.08072784,  0.09704034,  0.31858336,  0.42131329, -0.30970198,\n",
       "          0.37919478, -0.00498547, -0.20581095, -0.03873933,  0.45933681,\n",
       "         -0.0046577 , -0.18497855,  0.13524772],\n",
       "        [-0.22260725, -0.37687696, -0.32683057, -0.36794035, -0.30516009,\n",
       "         -0.31746221,  0.1137295 , -0.27701459, -0.14764874,  0.37946906,\n",
       "         -0.01761646,  0.14056948, -0.30777814],\n",
       "        [-0.2672633 , -0.4100003 , -0.28915783, -0.21505879, -0.28158056,\n",
       "         -0.36474075, -0.33460021, -0.0275294 , -0.28327865, -0.13192705,\n",
       "          0.00211651,  0.17487655, -0.44078945],\n",
       "        [ 0.25949607,  0.10218169, -0.37130289,  0.32914698,  0.37379053,\n",
       "         -0.39086409, -0.18858476,  0.26585   ,  0.21184019, -0.27453938,\n",
       "         -0.25130835, -0.10362483, -0.01009727],\n",
       "        [ 0.0936639 , -0.10500826, -0.02618028,  0.2111086 , -0.41396589,\n",
       "         -0.21119404,  0.17958063,  0.34954513,  0.00750501,  0.02212053,\n",
       "         -0.3473    , -0.03804053,  0.02249918],\n",
       "        [-0.22044646, -0.19563387, -0.09759566, -0.45838551, -0.14715452,\n",
       "         -0.24934817, -0.14223075, -0.33542398,  0.39239628,  0.10586205,\n",
       "          0.14822958,  0.25442258, -0.01187363],\n",
       "        [-0.36642484,  0.02590566,  0.06643147,  0.22555871, -0.05088038,\n",
       "         -0.32805491, -0.1822267 , -0.11019738,  0.14068698,  0.06622052,\n",
       "         -0.11643846,  0.44738077,  0.10849706],\n",
       "        [-0.22532132, -0.35238711, -0.30426079, -0.25483396, -0.29690898,\n",
       "         -0.27262229, -0.18101203, -0.28499229,  0.38231379, -0.40469359,\n",
       "          0.01650353, -0.10712221,  0.47051213],\n",
       "        [-0.34270786, -0.07958879,  0.41979774,  0.32154324,  0.27603241,\n",
       "         -0.20612738, -0.28732515,  0.13873012,  0.38183208,  0.04140115,\n",
       "          0.05359778, -0.18572481,  0.23157485],\n",
       "        [-0.27217567, -0.14569936, -0.05606135,  0.00480677, -0.22050293,\n",
       "         -0.34006862,  0.08696818, -0.17775905,  0.06167625, -0.30284721,\n",
       "         -0.01245831,  0.02247824, -0.39962463],\n",
       "        [-0.13397976, -0.32161688, -0.38869033,  0.4594355 , -0.14690465,\n",
       "          0.26928908, -0.20915061,  0.15041524,  0.24523728,  0.08539548,\n",
       "         -0.01937091, -0.0990058 , -0.13629962]]),\n",
       " array([[-0.33553162, -0.38124586, -0.38051054],\n",
       "        [ 0.35501953,  0.17703857,  0.0200963 ],\n",
       "        [-0.14900714,  0.43057541, -0.11036537],\n",
       "        [ 0.37317405, -0.04731186, -0.16706344],\n",
       "        [-0.03405119, -0.21641991,  0.27469146],\n",
       "        [ 0.00214835, -0.29883004,  0.45763901],\n",
       "        [-0.12011953,  0.04039667,  0.46598833],\n",
       "        [ 0.12944344, -0.43771069,  0.50640557],\n",
       "        [ 0.1407538 , -0.17407596, -0.46064642],\n",
       "        [ 0.34486284,  0.17499322,  0.02294411],\n",
       "        [ 0.45076316,  0.32378816, -0.39569811],\n",
       "        [-0.24548098, -0.28018302,  0.2809966 ],\n",
       "        [-0.5872821 ,  0.11419439,  0.30203546]])]"
      ]
     },
     "execution_count": 74,
     "metadata": {},
     "output_type": "execute_result"
    }
   ],
   "source": [
    "clf.coefs_"
   ]
  },
  {
   "cell_type": "markdown",
   "id": "7c7d6350",
   "metadata": {},
   "source": [
    "# Displaying MLP Biases"
   ]
  },
  {
   "cell_type": "code",
   "execution_count": 76,
   "id": "d4c08311",
   "metadata": {},
   "outputs": [
    {
     "data": {
      "text/plain": [
       "[array([ 0.06741343,  0.18004082, -0.46444739, -0.01045654, -0.26277436,\n",
       "         0.11142581, -0.29890684,  0.17257406, -0.10882116,  0.39280202,\n",
       "        -0.34825861, -0.15269851, -0.37136263]),\n",
       " array([ 0.34250436,  0.15246791, -0.33594756, -0.40958643,  0.16780966,\n",
       "        -0.46146903,  0.07890997,  0.42295953,  0.08994915, -0.12835366,\n",
       "         0.13766687, -0.04010933,  0.04382719]),\n",
       " array([ 0.05325706,  0.25843475,  0.43391046,  0.30570594, -0.2493738 ,\n",
       "        -0.04751566, -0.35629211,  0.41303618,  0.0718073 , -0.24162785,\n",
       "         0.16496468,  0.11349394, -0.14005993]),\n",
       " array([ 0.41267825,  0.31764885,  0.4467834 , -0.3751563 ,  0.2218103 ,\n",
       "         0.42114389, -0.30626136, -0.41649691,  0.23477151,  0.07129746,\n",
       "         0.32841847, -0.37168243,  0.29343553]),\n",
       " array([ 0.44051791, -0.16217693,  0.36921764])]"
      ]
     },
     "execution_count": 76,
     "metadata": {},
     "output_type": "execute_result"
    }
   ],
   "source": [
    "clf.intercepts_"
   ]
  },
  {
   "cell_type": "code",
   "execution_count": null,
   "id": "a86abf23",
   "metadata": {},
   "outputs": [],
   "source": []
  }
 ],
 "metadata": {
  "kernelspec": {
   "display_name": "Python 3",
   "language": "python",
   "name": "python3"
  },
  "language_info": {
   "codemirror_mode": {
    "name": "ipython",
    "version": 3
   },
   "file_extension": ".py",
   "mimetype": "text/x-python",
   "name": "python",
   "nbconvert_exporter": "python",
   "pygments_lexer": "ipython3",
   "version": "3.8.8"
  }
 },
 "nbformat": 4,
 "nbformat_minor": 5
}
